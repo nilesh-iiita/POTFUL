{
 "cells": [
  {
   "cell_type": "markdown",
   "id": "bd0308de-2cd4-436e-b246-0bba5bf462fb",
   "metadata": {},
   "source": [
    "# Demo"
   ]
  },
  {
   "cell_type": "code",
   "execution_count": 1,
   "id": "898ce02e-bddd-4d1f-8baa-cc465e5df87b",
   "metadata": {},
   "outputs": [],
   "source": [
    "import sys\n",
    "# caution: path[0] is reserved for script path (or '' in REPL)\n",
    "sys.path.insert(1, '.')\n",
    "import pprint\n",
    "pp = pprint.PrettyPrinter(depth=4, width=80, compact=True)\n",
    "\n",
    "from POTFUL import POTFUL\n"
   ]
  },
  {
   "cell_type": "code",
   "execution_count": 2,
   "id": "eff47660-3284-4a47-84e5-ea2b00ecd454",
   "metadata": {},
   "outputs": [
    {
     "name": "stdout",
     "output_type": "stream",
     "text": [
      "\u001b[0;6;31;40m POTFUL \u001b[0;5;30;0m\n",
      "\u001b[0;34;40m                                        \u001b[0m\n",
      "\u001b[0;34;40m                                        \u001b[0m\n",
      "\u001b[0;34;40m                                        \u001b[0m\n",
      "\u001b[0;34;40m                                        \u001b[0m\n",
      "\u001b[0;34;40m        \u001b[0;1;30;40mS\u001b[0;5;36;40mt\u001b[0;5;31;40mX\u001b[0;34;40m;\u001b[0;32;40m.  \u001b[0;1;30;40m@\u001b[0;5;36;40m:\u001b[0;5;30;40mX\u001b[0;31;40m;\u001b[0;34;40m.\u001b[0;32;40m     \u001b[0;34;40m               \u001b[0m\n",
      "\u001b[0;34;40m       :\u001b[0;5;33;40m \u001b[0;5;37;40m8\u001b[0;1;30;47m8\u001b[0;5;32;40mS\u001b[0;31;40m  ;\u001b[0;5;37;40mX8\u001b[0;1;30;47m8\u001b[0;5;30;40m@\u001b[0;32;40m   .\u001b[0;34;40m.\u001b[0;31;40m     \u001b[0;34;40m           \u001b[0m\n",
      "\u001b[0;34;40m      \u001b[0;32;40m \u001b[0;5;30;40m8\u001b[0;1;30;47m8\u001b[0;5;37;40m88\u001b[0;1;30;40mX\u001b[0;34;40m .\u001b[0;5;30;40mX\u001b[0;1;30;47m8\u001b[0;5;37;40m8X\u001b[0;32;40m;\u001b[0;34;40m.\u001b[0;31;40m \u001b[0;1;30;40m8\u001b[0;5;37;40mS\u001b[0;5;33;40m \u001b[0;1;30;40m@\u001b[0;31;40m   \u001b[0;34;40m            \u001b[0m\n",
      "\u001b[0;34;40m     \u001b[0;32;40m \u001b[0;31;40m \u001b[0;5;33;40m;\u001b[0;5;37;40m8\u001b[0;1;30;47m8\u001b[0;5;35;40m \u001b[0;34;40m:\u001b[0;31;40m.\u001b[0;34;40m.\u001b[0;5;33;40m \u001b[0;1;30;47m8\u001b[0;5;37;40m8\u001b[0;5;35;40m \u001b[0;34;40m:\u001b[0;31;40m.\u001b[0;32;40m:\u001b[0;5;35;40m \u001b[0;1;30;47mX8\u001b[0;5;30;40mX\u001b[0;31;40m    \u001b[0;34;40m           \u001b[0m\n",
      "\u001b[0;34;40m     \u001b[0;31;40m \u001b[0;34;40m.\u001b[0;5;35;40m;\u001b[0;5;37;40mSS\u001b[0;1;30;40m8\u001b[0;31;40m.\u001b[0;32;40m \u001b[0;1;30;40m8\u001b[0;5;37;40m8\u001b[0;1;30;47m8\u001b[0;5;37;40m8\u001b[0;1;30;40m@\u001b[0;31;40m .\u001b[0;5;30;40mX\u001b[0;1;30;47m8\u001b[0;5;37;40m8X\u001b[0;31;40mt\u001b[0;34;40m.\u001b[0;32;40m.\u001b[0;34;40m             \u001b[0m\n",
      "\u001b[0;34;40m    \u001b[0;31;40m  \u001b[0;32;40m  :\u001b[0;34;40m:\u001b[0;31;40m.\u001b[0;32;40m  \u001b[0;5;33;40m.\u001b[0;5;37;40m88\u001b[0;5;36;40m \u001b[0;31;40m:\u001b[0;32;40m.\u001b[0;34;40m.\u001b[0;5;35;40m \u001b[0;1;30;47m88\u001b[0;5;36;40m \u001b[0;32;40m.\u001b[0;34;40m.\u001b[0;32;40m \u001b[0;34;40m             \u001b[0m\n",
      "\u001b[0;34;40m    \u001b[0;32;40m    \u001b[0;31;40m.\u001b[0;32;40m.   \u001b[0;5;36;40m:\u001b[0;5;37;40m88\u001b[0;5;30;40mX\u001b[0;34;40m.\u001b[0;32;40m .\u001b[0;5;35;40m \u001b[0;5;37;40m8X\u001b[0;1;30;40m8\u001b[0;34;40m.\u001b[0;32;40m     \u001b[0;34;40m          \u001b[0m\n",
      "\u001b[0;34;40m    \u001b[0;32;40m     \u001b[0;34;40m \u001b[0;32;40m  \u001b[0;31;40m  :\u001b[0;34;40m;\u001b[0;32;40m.\u001b[0;31;40m  .\u001b[0;34;40m.\u001b[0;31;40m;\u001b[0;34;40m:\u001b[0;32;40m.      \u001b[0;34;40m  t\u001b[0;5;30;40m8\u001b[0;5;36;40m8%\u001b[0;1;30;46m8\u001b[0;5;36;40m \u001b[0;30;44m8\u001b[0;32;40m:\u001b[0m\n",
      "\u001b[0;34;40m    \u001b[0;32;40m     \u001b[0;34;40m \u001b[0;32;40m  \u001b[0;31;40m \u001b[0;34;40m \u001b[0;32;40m.\u001b[0;31;40m.\u001b[0;32;40m    ...\u001b[0;31;40m   \u001b[0;32;40m   \u001b[0;34;40m;\u001b[0;5;34;40mS\u001b[0;5;36;40mS\u001b[0;36;47m888\u001b[0;1;36;47mXX8\u001b[0;30;44m8\u001b[0;31;40m;\u001b[0m\n",
      "\u001b[0;34;40m ;\u001b[0;5;36;40mX%t\u001b[0;1;30;46m8\u001b[0;5;36;40m.\u001b[0;1;30;46m8\u001b[0;5;36;40m.\u001b[0;1;30;46m8\u001b[0;5;36;40m.\u001b[0;1;30;46m8\u001b[0;5;36;40m.\u001b[0;1;30;46m8\u001b[0;5;36;40m.\u001b[0;1;30;46m8\u001b[0;5;36;40m.\u001b[0;1;30;46m8\u001b[0;5;36;40m.\u001b[0;1;30;46m8\u001b[0;5;36;40m.\u001b[0;1;30;46m8\u001b[0;5;36;40m.\u001b[0;1;30;46m8\u001b[0;5;36;40m.\u001b[0;1;30;46m8\u001b[0;5;36;40m.\u001b[0;1;30;46m8\u001b[0;1;30;47m8\u001b[0;37;46m8\u001b[0;36;47m8\u001b[0;1;36;47m@8\u001b[0;1;34;47m8\u001b[0;36;47m8\u001b[0;5;34;44m8\u001b[0;5;35;40mX\u001b[0;34;40m8\u001b[0;31;40m;\u001b[0;32;40m.\u001b[0m\n",
      "\u001b[0;34;40m \u001b[0;5;30;40m8\u001b[0;36;47m8\u001b[0;1;36;47m8@\u001b[0;1;34;47mX\u001b[0;1;36;47m8\u001b[0;36;47m@\u001b[0;1;36;47m@\u001b[0;1;34;47m@\u001b[0;1;36;47m@\u001b[0;36;47m@\u001b[0;1;36;47m@\u001b[0;1;34;47m@\u001b[0;1;36;47m@\u001b[0;36;47m@\u001b[0;1;36;47m@\u001b[0;1;34;47m@\u001b[0;1;36;47m@\u001b[0;36;47m@\u001b[0;1;36;47m@\u001b[0;1;34;47m@\u001b[0;1;36;47m@\u001b[0;36;47m@\u001b[0;1;36;47m@\u001b[0;1;34;47m@\u001b[0;1;36;47m@@\u001b[0;1;34;47m8\u001b[0;1;36;47m8\u001b[0;5;36;40mS\u001b[0;35;44mX\u001b[0;30;44m@\u001b[0;34;40m@t\u001b[0;32;40m;\u001b[0;34;40m.\u001b[0;32;40m..\u001b[0;34;40m \u001b[0m\n",
      "\u001b[0;34;40m @\u001b[0;36;47m8\u001b[0;1;34;47m@\u001b[0;1;36;47m8\u001b[0;1;30;44mt\u001b[0;34;40m888@8\u001b[0;30;44m8\u001b[0;34;40m@@8\u001b[0;30;44m8\u001b[0;34;40m8@8\u001b[0;30;44m8\u001b[0;34;40m8@8\u001b[0;30;44m8\u001b[0;34;40m8@\u001b[0;5;36;40m;\u001b[0;1;36;47m8\u001b[0;1;34;47m@\u001b[0;1;30;46m8\u001b[0;30;44m8\u001b[0;31;40m:\u001b[0;32;40m:\u001b[0;31;40m:..\u001b[0;34;40m    \u001b[0m\n",
      "\u001b[0;34;40m %\u001b[0;36;47m88\u001b[0;1;34;47m@\u001b[0;5;36;40m%\u001b[0;34;40m;\u001b[0;31;40m;:.:::.:::::::::::\u001b[0;34;40m%\u001b[0;1;30;47m8\u001b[0;1;34;47m8\u001b[0;1;36;47m8\u001b[0;5;35;40mX\u001b[0;34;40mt.\u001b[0;31;40m \u001b[0;32;40m.  \u001b[0;34;40m    \u001b[0m\n",
      "\u001b[0;34;40m .\u001b[0;1;30;44m8\u001b[0;36;47m8\u001b[0;1;36;47m8\u001b[0;36;47m@\u001b[0;5;36;40mt\u001b[0;1;30;44m@\u001b[0;32;40m;\u001b[0;34;40m;\u001b[0;32;40m:\u001b[0;34;40m;\u001b[0;32;40m:\u001b[0;34;40m;\u001b[0;32;40m;\u001b[0;34;40m;\u001b[0;32;40m;\u001b[0;34;40m;\u001b[0;32;40m:\u001b[0;34;40m;\u001b[0;32;40m;\u001b[0;34;40m;\u001b[0;32;40m;\u001b[0;34;40m%\u001b[0;5;36;40m8;\u001b[0;1;36;47m8\u001b[0;36;47m8\u001b[0;5;36;44mt\u001b[0;5;30;40m8\u001b[0;32;40m   \u001b[0;34;40m \u001b[0;32;40m  \u001b[0;34;40m    \u001b[0m\n",
      "\u001b[0;34;40m \u001b[0;32;40m \u001b[0;34;40m:\u001b[0;1;30;44m8\u001b[0;36;47m8\u001b[0;1;36;47m@\u001b[0;1;34;47m8\u001b[0;1;36;47m@\u001b[0;36;47m8888888888888888@\u001b[0;1;36;47m8\u001b[0;1;34;47m8\u001b[0;36;47m8\u001b[0;5;34;40m8\u001b[0;32;40m       \u001b[0;34;40m    \u001b[0m\n",
      "\u001b[0;34;40m \u001b[0;32;40m  \u001b[0;34;40m;\u001b[0;30;44mX\u001b[0;5;36;40mt\u001b[0;36;47m88\u001b[0;1;34;47m8\u001b[0;1;36;47m8\u001b[0;1;34;47m@\u001b[0;1;36;47m8\u001b[0;1;34;47m@\u001b[0;1;36;47m8\u001b[0;1;34;47m@\u001b[0;1;36;47m8\u001b[0;1;34;47m8\u001b[0;1;36;47m8\u001b[0;1;34;47m@\u001b[0;1;36;47m8\u001b[0;1;34;47m8\u001b[0;1;36;47m8\u001b[0;1;34;47m@\u001b[0;1;36;47m8\u001b[0;1;34;47m8\u001b[0;37;46m8\u001b[0;1;30;44m8\u001b[0;34;40m8\u001b[0;32;40m.        \u001b[0;34;40m   \u001b[0m\n",
      "\u001b[0;34;40m \u001b[0;32;40m  \u001b[0;31;40m.\u001b[0;34;40m:%S88888888888888888S%;\u001b[0;31;40m:\u001b[0;32;40m.       \u001b[0;34;40m    \u001b[0m\n",
      "\u001b[0;34;40m \u001b[0;32;40m   \u001b[0;31;40m  \u001b[0;34;40m \u001b[0;31;40m..\u001b[0;32;40m:\u001b[0;31;40m;\u001b[0;32;40m;\u001b[0;31;40m;\u001b[0;32;40m;\u001b[0;31;40mt\u001b[0;32;40m;\u001b[0;31;40mt\u001b[0;32;40m;\u001b[0;31;40mt\u001b[0;32;40m;\u001b[0;31;40mt\u001b[0;32;40m;\u001b[0;31;40m;:...\u001b[0;32;40m.\u001b[0;31;40m \u001b[0;32;40m        \u001b[0;34;40m   \u001b[0m\n",
      "\u001b[0;34;40m \u001b[0;32;40m  \u001b[0;31;40m   \u001b[0;34;40m  \u001b[0;31;40m.\u001b[0;32;40m.\u001b[0;31;40m.\u001b[0;34;40m.\u001b[0;31;40m.\u001b[0;34;40m.\u001b[0;32;40m.\u001b[0;31;40m.\u001b[0;34;40m.\u001b[0;31;40m.\u001b[0;32;40m.\u001b[0;31;40m.\u001b[0;32;40m.\u001b[0;31;40m.\u001b[0;32;40m..\u001b[0;34;40m \u001b[0;32;40m   \u001b[0;31;40m \u001b[0;32;40m        \u001b[0;34;40m   \u001b[0m\n",
      "\u001b[0;34;40m  \u001b[0;32;40m \u001b[0;31;40m   \u001b[0;34;40m     \u001b[0;32;40m .\u001b[0;31;40m  \u001b[0;34;40m \u001b[0;32;40m  \u001b[0;34;40m  .    \u001b[0;32;40m             \u001b[0;34;40m  \u001b[0m\n",
      "Results will be saved in 'POTFUL_OUT/' folder\n"
     ]
    }
   ],
   "source": [
    "POT = POTFUL()"
   ]
  },
  {
   "cell_type": "markdown",
   "id": "7b5f91e9-4ad6-4dbe-aad5-e19b6a420fd9",
   "metadata": {},
   "source": [
    "## LOAD Auxiliary Files"
   ]
  },
  {
   "cell_type": "code",
   "execution_count": 3,
   "id": "411c2a97-1c1c-4f86-aa80-784d443e5d30",
   "metadata": {},
   "outputs": [
    {
     "name": "stdout",
     "output_type": "stream",
     "text": [
      "{'TF_Family': 'Auxiliary_File/Arabidopsis_TF and family.csv',\n",
      " 'TF_Targets': 'Auxiliary_File/masterTF-target.txt',\n",
      " 'WGCNA_COLOR_MAP': 'Auxiliary_File/WGCNA_COLOR_MAP.csv'}\n",
      "🍲Auxiliary File None\n",
      "{'TF_Family': 'Auxiliary_File/Arabidopsis_TF and family.csv',\n",
      " 'TF_Targets': 'Auxiliary_File/masterTF-target.txt',\n",
      " 'WGCNA_COLOR_MAP': 'Auxiliary_File/WGCNA_COLOR_MAP.csv'}\n"
     ]
    }
   ],
   "source": [
    "POT.Load_Auxiliary_Files(WGCNA_COLOR_MAP=\"Auxiliary_File/WGCNA_COLOR_MAP.csv\", \n",
    "                         TF_Targets=\"Auxiliary_File/masterTF-target.txt\", \n",
    "                         TF_Family=\"Auxiliary_File/Arabidopsis_TF and family.csv\")"
   ]
  },
  {
   "cell_type": "markdown",
   "id": "dbc0a0df-756c-4af2-bc79-d0e08cebb357",
   "metadata": {},
   "source": [
    "## LOAD 'Uncut' Files"
   ]
  },
  {
   "cell_type": "code",
   "execution_count": 4,
   "id": "09dc6272-3bd3-499b-8f33-7d97d15af48c",
   "metadata": {},
   "outputs": [
    {
     "name": "stdout",
     "output_type": "stream",
     "text": [
      "Uncut\n",
      "🍲Sample Uncut\n",
      "3_GRN_data/GSE74488_Uncut_arboreto_regnet.tsv\n",
      "defaultdict(<class 'dict'>,\n",
      "            {'Uncut': {'GRN': '3_GRN_data/GSE74488_Uncut_arboreto_regnet.tsv',\n",
      "                       'WGCNA': {'EDGE': '2_WGCNA_data/WGCNA_GSE74488_Uncut/Edges_Uncut.txt',\n",
      "                                 'NODE': '2_WGCNA_data/WGCNA_GSE74488_Uncut/Nodes_Uncut.txt'}}})\n",
      "🍲 Files None\n",
      "defaultdict(<class 'dict'>,\n",
      "            {'Uncut': {'GRN': '3_GRN_data/GSE74488_Uncut_arboreto_regnet.tsv',\n",
      "                       'WGCNA': {'EDGE': '2_WGCNA_data/WGCNA_GSE74488_Uncut/Edges_Uncut.txt',\n",
      "                                 'NODE': '2_WGCNA_data/WGCNA_GSE74488_Uncut/Nodes_Uncut.txt'}}})\n"
     ]
    }
   ],
   "source": [
    "POT.Load_Files(Sample_name=\"Uncut\",\n",
    "               NODE_File=\"2_WGCNA_data/WGCNA_GSE74488_Uncut/Nodes_Uncut.txt\",\n",
    "               EDGE_File=\"2_WGCNA_data/WGCNA_GSE74488_Uncut/Edges_Uncut.txt\",\n",
    "               GRN_File=\"3_GRN_data/GSE74488_Uncut_arboreto_regnet.tsv\")"
   ]
  },
  {
   "cell_type": "markdown",
   "id": "d3ac665b-cade-47b4-9003-b29d3100dfbc",
   "metadata": {},
   "source": [
    "## LOAD '3hpc' Files"
   ]
  },
  {
   "cell_type": "code",
   "execution_count": 5,
   "id": "44781e74-61e7-45d7-a1ce-40b7a59d3785",
   "metadata": {},
   "outputs": [
    {
     "name": "stdout",
     "output_type": "stream",
     "text": [
      "3hpc\n",
      "🍲Sample 3hpc\n",
      "3_GRN_data/GSE74488_3hpc_arboreto_regnet.tsv\n",
      "defaultdict(<class 'dict'>,\n",
      "            {'3hpc': {'GRN': '3_GRN_data/GSE74488_3hpc_arboreto_regnet.tsv',\n",
      "                      'WGCNA': {'EDGE': '2_WGCNA_data/WGCNA_GSE74488_3hpc/Edges_3hpc.txt',\n",
      "                                'NODE': '2_WGCNA_data/WGCNA_GSE74488_3hpc/Nodes_3hpc.txt'}},\n",
      "             'Uncut': {'GRN': '3_GRN_data/GSE74488_Uncut_arboreto_regnet.tsv',\n",
      "                       'WGCNA': {'EDGE': '2_WGCNA_data/WGCNA_GSE74488_Uncut/Edges_Uncut.txt',\n",
      "                                 'NODE': '2_WGCNA_data/WGCNA_GSE74488_Uncut/Nodes_Uncut.txt'}}})\n",
      "🍲 Files None\n",
      "defaultdict(<class 'dict'>,\n",
      "            {'3hpc': {'GRN': '3_GRN_data/GSE74488_3hpc_arboreto_regnet.tsv',\n",
      "                      'WGCNA': {'EDGE': '2_WGCNA_data/WGCNA_GSE74488_3hpc/Edges_3hpc.txt',\n",
      "                                'NODE': '2_WGCNA_data/WGCNA_GSE74488_3hpc/Nodes_3hpc.txt'}},\n",
      "             'Uncut': {'GRN': '3_GRN_data/GSE74488_Uncut_arboreto_regnet.tsv',\n",
      "                       'WGCNA': {'EDGE': '2_WGCNA_data/WGCNA_GSE74488_Uncut/Edges_Uncut.txt',\n",
      "                                 'NODE': '2_WGCNA_data/WGCNA_GSE74488_Uncut/Nodes_Uncut.txt'}}})\n"
     ]
    }
   ],
   "source": [
    "POT.Load_Files(Sample_name=\"3hpc\",\n",
    "               NODE_File=\"2_WGCNA_data/WGCNA_GSE74488_3hpc/Nodes_3hpc.txt\",\n",
    "               EDGE_File=\"2_WGCNA_data/WGCNA_GSE74488_3hpc/Edges_3hpc.txt\",\n",
    "               GRN_File=\"3_GRN_data/GSE74488_3hpc_arboreto_regnet.tsv\")"
   ]
  },
  {
   "cell_type": "markdown",
   "id": "27833f49-e7e4-4fd6-840b-9d107bdf678c",
   "metadata": {},
   "source": [
    "## Define Samples "
   ]
  },
  {
   "cell_type": "code",
   "execution_count": 6,
   "id": "b4998a2d-09b1-4127-8d32-ddbb52670e75",
   "metadata": {},
   "outputs": [
    {
     "name": "stdout",
     "output_type": "stream",
     "text": [
      "0 Uncut\n",
      "1 3hpc\n"
     ]
    }
   ],
   "source": [
    "Samples = POT.Samples\n",
    "for i in range(len(Samples)):\n",
    "    print(i, Samples[i])"
   ]
  },
  {
   "cell_type": "markdown",
   "id": "0c8ce7a3-5614-44ad-9f58-21d0444d8534",
   "metadata": {},
   "source": [
    "## Create GMT file for both samples for enrichment analysis"
   ]
  },
  {
   "cell_type": "code",
   "execution_count": 7,
   "id": "1800f499-ca67-4725-af72-2e6649981055",
   "metadata": {},
   "outputs": [
    {
     "name": "stdout",
     "output_type": "stream",
     "text": [
      "GMT_base/POTFUL-Uncut.gmt 8921\n",
      "GMT_base/POTFUL-3hpc.gmt 4756\n"
     ]
    }
   ],
   "source": [
    "POT.WGCNA_Bucket_GMT()"
   ]
  },
  {
   "cell_type": "code",
   "execution_count": 8,
   "id": "da9ed1d9-87f9-4709-9c81-8c2577ce8ff6",
   "metadata": {},
   "outputs": [
    {
     "name": "stdout",
     "output_type": "stream",
     "text": [
      "GMT_base/POTFUL-Uncut.gmt\n",
      "GMT_base/POTFUL-3hpc.gmt\n"
     ]
    }
   ],
   "source": [
    "for i in range(len(Samples)):\n",
    "    print((POT.File[Samples[i]]['GMT']))\n"
   ]
  },
  {
   "cell_type": "markdown",
   "id": "0555e8eb-efb5-4fea-a8a9-165603747318",
   "metadata": {},
   "source": [
    "## Plot WGCNA module barplot (Uncut)"
   ]
  },
  {
   "cell_type": "code",
   "execution_count": 9,
   "id": "f5e60893-7e06-44c1-b642-5dad377b1589",
   "metadata": {},
   "outputs": [],
   "source": [
    "fig = POT.Plots[Samples[0]]['WGCNA_BarPlot']\n",
    "fig.write_image(POT.OutDir+\"0_Uncut.png\")"
   ]
  },
  {
   "cell_type": "markdown",
   "id": "c3a47e99-bf12-44a3-b77c-6750976dbab0",
   "metadata": {},
   "source": [
    "![](POTFUL_OUT/0_Uncut.png)"
   ]
  },
  {
   "cell_type": "code",
   "execution_count": 10,
   "id": "ff54200c-8864-45fc-abb8-1d2ade736032",
   "metadata": {},
   "outputs": [],
   "source": [
    "fig.update_layout({\n",
    "        'plot_bgcolor': 'rgba(0, 0, 0, 0)',\n",
    "        'paper_bgcolor': 'rgba(0, 0, 0, 0)',})\n",
    "    \n",
    "fig.update_layout(\n",
    "    autosize=False,\n",
    "    width=350,\n",
    "    height=500,\n",
    "    plot_bgcolor='rgba(0,0,0,0)',\n",
    ")\n",
    "\n",
    "fig.update_layout(\n",
    "title=f\"{Samples[0]} WGCNA bar plot\",\n",
    "font=dict(\n",
    "    family=\"Arial\",\n",
    "    size=12,\n",
    "    color=\"black\"))\n",
    "\n",
    "fig.update_xaxes(showline=True, linewidth=2, linecolor='black', mirror=True)\n",
    "fig.update_yaxes(showline=True, linewidth=2, linecolor='black', mirror=True)\n",
    "\n",
    "fig.write_image(POT.OutDir+f\"1_{Samples[0]}.png\", scale=2)\n",
    "fig.write_image(POT.OutDir+f\"1_{Samples[0]}.svg\")"
   ]
  },
  {
   "cell_type": "markdown",
   "id": "7e81eb3a-841e-4a74-b469-3226bbc8dd1d",
   "metadata": {},
   "source": [
    "![Uncut Barplot](POTFUL_OUT/1_Uncut.png)"
   ]
  },
  {
   "cell_type": "markdown",
   "id": "a7a49169-2ee2-48aa-a0b4-0f411dc3fb67",
   "metadata": {},
   "source": [
    "## Plot WGCNA module barplot (3hpc)"
   ]
  },
  {
   "cell_type": "code",
   "execution_count": 11,
   "id": "f45f6007-5b72-4617-974a-971bd9fcdfcd",
   "metadata": {},
   "outputs": [],
   "source": [
    "fig = POT.Plots[Samples[1]]['WGCNA_BarPlot']\n",
    "\n",
    "fig.update_layout(\n",
    "    autosize=False,\n",
    "    width=350,\n",
    "    height=500,\n",
    "    plot_bgcolor='rgba(0,0,0,0)',\n",
    ")\n",
    "\n",
    "fig.update_layout(\n",
    "font=dict(\n",
    "    family=\"Arial\",\n",
    "    size=12,\n",
    "    color=\"black\"))\n",
    "\n",
    "fig.update_xaxes(showline=True, linewidth=2, linecolor='black', mirror=True)\n",
    "fig.update_yaxes(showline=True, linewidth=2, linecolor='black', mirror=True)\n",
    "\n",
    "fig.write_image(POT.OutDir+f\"2_{Samples[1]}.png\", scale=2)\n",
    "fig.write_image(POT.OutDir+f\"2_{Samples[1]}.svg\")"
   ]
  },
  {
   "cell_type": "markdown",
   "id": "eb825fcb-aa43-4236-a8a8-5037c1d3bbfc",
   "metadata": {},
   "source": [
    "![3hpc Barplot](POTFUL_OUT/2_3hpc.png)"
   ]
  },
  {
   "cell_type": "markdown",
   "id": "e156e418-88ef-4d7d-9320-0675e57df82b",
   "metadata": {},
   "source": [
    "## WGCNA module wise enrichment Uncut vs 3hpc"
   ]
  },
  {
   "cell_type": "code",
   "execution_count": 12,
   "id": "c60eb827-e3e6-46d7-9f46-17f6eb621bc6",
   "metadata": {},
   "outputs": [
    {
     "name": "stdout",
     "output_type": "stream",
     "text": [
      "3hpc Uncut\n",
      "\n",
      "Total Number of genes in 12088\n",
      "   Gene_set (Uncut)  Term (3hpc)  Overlap       P-value  Adjusted P-value  \\\n",
      "4                red  greenyellow  20/175  1.438619e-03      1.726343e-02   \n",
      "7            magenta       purple  21/166  2.583919e-08      2.583919e-07   \n",
      "10             brown    turquoise  73/914  2.693691e-08      3.232430e-07   \n",
      "5              black         pink  45/349  1.475838e-12      1.475838e-11   \n",
      "\n",
      "    Odds Ratio Significance                                              Genes  \n",
      "4     2.165923            *  AT2G21237;AT1G62910;AT3G15440;AT3G44450;AT1G63...  \n",
      "7     4.481927          ***  AT5G16400;AT2G04230;AT4G14690;AT4G18080;AT3G55...  \n",
      "10    2.105779          ***  AT2G42370;AT1G51850;AT4G17240;AT1G78530;AT4G16...  \n",
      "5     3.550101          ***  AT1G23790;AT5G55520;AT2G25060;AT5G19490;AT5G38...  \n"
     ]
    }
   ],
   "source": [
    "POT.WGCNA_Module_Enrichment(Samples[1], Samples[0])\n",
    "\n",
    "print(POT.Data[\"Enrichment_Dotplot\"])\n",
    "fig = POT.Plots[\"Enrichment_Dotplot\"]\n",
    "\n",
    "fig.update_layout(\n",
    "    autosize=False,\n",
    "    width=490,\n",
    "    height=500,\n",
    "font=dict(\n",
    "    family=\"Arial\",\n",
    "    size=12,\n",
    "    color=\"black\"))\n",
    "\n",
    "fig.write_image(POT.OutDir+f\"3hpc__UncutEnri_dot.png\", scale=2)\n",
    "fig.write_image(POT.OutDir+f\"3hpc__UncutEnri_dot.svg\")"
   ]
  },
  {
   "cell_type": "markdown",
   "id": "b8cbb6f9-53d7-49ce-9161-ac31459e93c1",
   "metadata": {},
   "source": [
    "!['Enrichment_uncut_3hpc'](POTFUL_OUT/3hpc__UncutEnri_dot.png)"
   ]
  },
  {
   "cell_type": "markdown",
   "id": "2ff46a29-bffd-4920-b8db-e789d8badfe2",
   "metadata": {},
   "source": [
    "## TF Network overlap"
   ]
  },
  {
   "cell_type": "code",
   "execution_count": 13,
   "id": "c08a3590-df3f-44df-ba69-4a3f42aad285",
   "metadata": {},
   "outputs": [
    {
     "name": "stdout",
     "output_type": "stream",
     "text": [
      "Uncut Auxiliary_File/masterTF-target.txt 3_GRN_data/GSE74488_Uncut_arboreto_regnet.tsv\n",
      "Total number of TFT pairs in Auxiliary_File/masterTF-target.txt :2357032\n",
      "Scaled Dataset Using Pandas\n",
      "Total number of TFT pairs in 3_GRN_data/GSE74488_Uncut_arboreto_regnet.tsv :4115241\n",
      "Total number of common pairs:171069\n",
      "Total number of common pairs:171069\n",
      "3hpc Auxiliary_File/masterTF-target.txt 3_GRN_data/GSE74488_3hpc_arboreto_regnet.tsv\n",
      "Total number of TFT pairs in Auxiliary_File/masterTF-target.txt :2357032\n",
      "Scaled Dataset Using Pandas\n",
      "Total number of TFT pairs in 3_GRN_data/GSE74488_3hpc_arboreto_regnet.tsv :8025717\n",
      "Total number of common pairs:332905\n",
      "Total number of common pairs:332905\n"
     ]
    }
   ],
   "source": [
    "POT.merge_TF_reg(Samples[0])\n",
    "POT.merge_TF_reg(Samples[1])"
   ]
  },
  {
   "cell_type": "markdown",
   "id": "4757aaa7-1609-4118-aeba-0763c44f8589",
   "metadata": {},
   "source": [
    "## TF Co-expression Network overlap"
   ]
  },
  {
   "cell_type": "code",
   "execution_count": 14,
   "id": "5d47a4c5-e935-44c9-b4f2-e281d4bcf4c3",
   "metadata": {},
   "outputs": [
    {
     "name": "stdout",
     "output_type": "stream",
     "text": [
      "2_WGCNA_data/WGCNA_GSE74488_Uncut/Edges_Uncut.txt\n",
      "Total number of coexpressed combo-pairs:1126488\n",
      "Total number of common pairs:1095\n",
      "Total number of common pairs:1095\n",
      "POTFUL_OUT/Uncut_Coexp_GRN.tsv DiGraph with 1015 nodes and 1095 edges\n",
      "2_WGCNA_data/WGCNA_GSE74488_3hpc/Edges_3hpc.txt\n",
      "Total number of coexpressed combo-pairs:333250\n",
      "Total number of common pairs:229\n",
      "Total number of common pairs:229\n",
      "POTFUL_OUT/3hpc_Coexp_GRN.tsv DiGraph with 266 nodes and 229 edges\n"
     ]
    }
   ],
   "source": [
    "POT.merge_reg_coexp(Samples[0])\n",
    "POT.merge_reg_coexp(Samples[1])"
   ]
  },
  {
   "cell_type": "markdown",
   "id": "fba0392a-a3f5-4aa0-9971-63d2bcab0b85",
   "metadata": {},
   "source": [
    "## Network centrality analysis"
   ]
  },
  {
   "cell_type": "code",
   "execution_count": 15,
   "id": "fec576fb-b698-4b2d-9e62-f0a4c1ce944e",
   "metadata": {},
   "outputs": [
    {
     "name": "stdout",
     "output_type": "stream",
     "text": [
      "DiGraph with 1015 nodes and 1095 edges\n",
      "DiGraph with 1015 nodes and 1095 edges\n",
      "Degree Dict True\n",
      "Betweenness Dict True\n",
      "Degree Dict True\n",
      "clust Dict True\n",
      "DiGraph with 266 nodes and 229 edges\n",
      "DiGraph with 266 nodes and 229 edges\n",
      "Degree Dict True\n",
      "Betweenness Dict True\n",
      "Degree Dict True\n",
      "clust Dict True\n"
     ]
    }
   ],
   "source": [
    "POT.network_centrality(Samples[0])\n",
    "POT.network_centrality(Samples[1])"
   ]
  },
  {
   "cell_type": "markdown",
   "id": "f91ea333-5ca5-4dde-ab98-94feab7c443a",
   "metadata": {},
   "source": [
    "### Save GraphML file"
   ]
  },
  {
   "cell_type": "code",
   "execution_count": 16,
   "id": "d92784a9-56c4-4df5-83a5-a9b10201349e",
   "metadata": {},
   "outputs": [
    {
     "name": "stdout",
     "output_type": "stream",
     "text": [
      "DiGraph with 1015 nodes and 1095 edges\n",
      "DiGraph with 266 nodes and 229 edges\n"
     ]
    }
   ],
   "source": [
    "POT.generate_graphml_out(Samples[0])\n",
    "POT.generate_graphml_out(Samples[1])"
   ]
  },
  {
   "cell_type": "code",
   "execution_count": 17,
   "id": "99415dd9-7666-4cc5-899f-752347063cd7",
   "metadata": {},
   "outputs": [],
   "source": [
    "# POT.Data['Uncut'][\"Network\"].nodes"
   ]
  },
  {
   "cell_type": "markdown",
   "id": "7927ae29-ceec-49bd-a67c-a70b203e9684",
   "metadata": {},
   "source": [
    "## Generate network visualization html file"
   ]
  },
  {
   "cell_type": "code",
   "execution_count": 18,
   "id": "b4b7fe51-de27-476a-be8f-48b261b69c1e",
   "metadata": {},
   "outputs": [],
   "source": [
    "POT.Graph_vis(Samples[0])\n",
    "POT.Graph_vis(Samples[1])"
   ]
  },
  {
   "cell_type": "markdown",
   "id": "1f2ce74f-133a-4722-b044-b502915fb87b",
   "metadata": {},
   "source": [
    "### Display html graph file (pH)"
   ]
  },
  {
   "cell_type": "code",
   "execution_count": 19,
   "id": "684fd573-0e0c-4ade-b3da-96bc766e7c8a",
   "metadata": {},
   "outputs": [],
   "source": [
    "# POT.Plots[Samples[0]]['Network_Viz'].show(POT.OutDir+'Uncut.html')"
   ]
  },
  {
   "cell_type": "markdown",
   "id": "4ea09fa0-385b-43a5-8901-6bba2f1229f9",
   "metadata": {},
   "source": [
    "![pH](POTFUL_OUT/4_Uncut_network.png)"
   ]
  },
  {
   "cell_type": "markdown",
   "id": "afd0fc16-1b83-4d99-b41c-5d10692a0f69",
   "metadata": {},
   "source": [
    "### Display html graph file (3hpc)"
   ]
  },
  {
   "cell_type": "code",
   "execution_count": 20,
   "id": "3b7b3450-5cbb-44a8-801d-bce1dcd982f0",
   "metadata": {},
   "outputs": [],
   "source": [
    "# POT.Plots[Samples[1]]['Network_Viz'].show(POT.OutDir+'3hpc.html')"
   ]
  },
  {
   "cell_type": "markdown",
   "id": "f6ae564c-e602-40f3-8db1-dc10577189ce",
   "metadata": {},
   "source": [
    "![3hpc](POTFUL_OUT/5_3hpc_network.png)"
   ]
  },
  {
   "cell_type": "code",
   "execution_count": 21,
   "id": "82e65d81-0260-4335-a726-f468e8cb4a63",
   "metadata": {},
   "outputs": [
    {
     "name": "stdout",
     "output_type": "stream",
     "text": [
      "🍲 👌 There are 20 nodes overlapping between pair of Graphs\n",
      "{'AT4G36900', 'AT1G58340', 'AT5G42070', 'AT3G10113', 'AT2G42150', 'AT1G75388', 'AT2G18380', 'AT1G18330', 'AT2G45420', 'AT1G75820', 'AT1G75390', 'AT4G08940', 'AT3G01530', 'AT3G03200', 'AT5G62320', 'AT3G04030', 'AT1G51220', 'AT2G45660', 'AT5G46590', 'AT5G41920'}\n"
     ]
    }
   ],
   "source": [
    "POT.network_overlap(Samples[0], Samples[1])"
   ]
  },
  {
   "cell_type": "code",
   "execution_count": 22,
   "id": "eb436292-863c-4e68-b148-5941340ed6d9",
   "metadata": {},
   "outputs": [],
   "source": [
    "# pp.pprint(POT.Data[Samples[0]][Samples[1]])"
   ]
  },
  {
   "cell_type": "markdown",
   "id": "9b9fc573-32f1-4a36-9011-fb5575beefec",
   "metadata": {},
   "source": [
    "### Display html graph file (pH and Sulfur overlap)"
   ]
  },
  {
   "cell_type": "code",
   "execution_count": 23,
   "id": "a11f949c-2763-4dfc-89da-76b307603e59",
   "metadata": {},
   "outputs": [],
   "source": [
    "# POT.Plots['Uncut_3hpc_Overlap_Network_Viz'].show(POT.OutDir+'Overlap.html')"
   ]
  },
  {
   "cell_type": "markdown",
   "id": "0064ad1e-1cbd-4cca-bb74-ac214ae2c1d6",
   "metadata": {},
   "source": [
    "![Uncut_3hpc](POTFUL_OUT/Overlap.png)"
   ]
  },
  {
   "cell_type": "markdown",
   "id": "0cb0408d-9516-486b-a9fe-4666513662bf",
   "metadata": {},
   "source": [
    "### List all plots"
   ]
  },
  {
   "cell_type": "code",
   "execution_count": 24,
   "id": "2e12aa0c-786d-440e-bf24-02221f228286",
   "metadata": {},
   "outputs": [
    {
     "data": {
      "text/plain": [
       "['Uncut', '3hpc', 'Enrichment_Dotplot', 'Uncut_3hpc_Overlap_Network_Viz']"
      ]
     },
     "execution_count": 24,
     "metadata": {},
     "output_type": "execute_result"
    }
   ],
   "source": [
    "list(POT.Plots)"
   ]
  },
  {
   "cell_type": "code",
   "execution_count": 25,
   "id": "6a365632-4a1a-442e-8a3a-679efd76ad18",
   "metadata": {},
   "outputs": [
    {
     "name": "stdout",
     "output_type": "stream",
     "text": [
      "-----\n",
      "POTFUL              0.1.1\n",
      "plotly              5.10.0\n",
      "session_info        1.0.0\n",
      "-----\n",
      "IPython             8.5.0\n",
      "jupyter_client      7.3.5\n",
      "jupyter_core        4.11.1\n",
      "jupyterlab          3.4.6\n",
      "notebook            6.4.12\n",
      "-----\n",
      "Python 3.9.13 (main, Aug 25 2022, 23:51:50) [MSC v.1916 64 bit (AMD64)]\n",
      "Windows-10-10.0.22622-SP0\n",
      "-----\n",
      "Session information updated at 2022-09-28 05:47\n"
     ]
    }
   ],
   "source": [
    "import session_info\n",
    "session_info.show(html=False)\n"
   ]
  },
  {
   "cell_type": "markdown",
   "id": "1158a5aa-4915-427a-878b-9bfe2c254c85",
   "metadata": {},
   "source": [
    "END"
   ]
  }
 ],
 "metadata": {
  "kernelspec": {
   "display_name": "Python 3 (ipykernel)",
   "language": "python",
   "name": "python3"
  },
  "language_info": {
   "codemirror_mode": {
    "name": "ipython",
    "version": 3
   },
   "file_extension": ".py",
   "mimetype": "text/x-python",
   "name": "python",
   "nbconvert_exporter": "python",
   "pygments_lexer": "ipython3",
   "version": "3.9.13"
  }
 },
 "nbformat": 4,
 "nbformat_minor": 5
}
